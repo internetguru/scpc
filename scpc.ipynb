{
  "nbformat": 4,
  "nbformat_minor": 0,
  "metadata": {
    "colab": {
      "name": "SCPC",
      "provenance": [],
      "include_colab_link": true
    },
    "kernelspec": {
      "name": "python3",
      "display_name": "Python 3"
    }
  },
  "cells": [
    {
      "cell_type": "markdown",
      "metadata": {
        "id": "view-in-github",
        "colab_type": "text"
      },
      "source": [
        "<a href=\"https://colab.research.google.com/github/martapavelka/scpc/blob/dev/scpc.ipynb\" target=\"_parent\"><img src=\"https://colab.research.google.com/assets/colab-badge.svg\" alt=\"Open In Colab\"/></a>"
      ]
    },
    {
      "cell_type": "markdown",
      "metadata": {
        "id": "fkmGf8EwLzjT"
      },
      "source": [
        "## Colab usage\n",
        "1. Set up default values including the list of facets\n",
        "2. Run first two code cells (setup and relabelling function definition)\n",
        "3. Find the desired property cell further down\n",
        "4. Run that cell and check the result at the bottom of the cell"
      ]
    },
    {
      "cell_type": "markdown",
      "metadata": {
        "id": "0iDaDdntW4xV"
      },
      "source": [
        "# Simplicial Complex Closure Properties Detector  \n",
        "\n",
        "This program by <i><a href=\"https://www.martapavelka.com/\">Marta Pavelka</a>\n",
        "</i> detects the following simplicial complex closure properties: under-closed, semi-closed, weakly-closed, chordal, closed, unit-interval, traceable, Hamiltonian, weakly-traceable and weakly-Hamiltonian. To use it, simply enter a list of facets of a simplicial complex and select the desired property. For the definitions of the above properties see the article <a href=\"https://arxiv.org/pdf/2101.09243.pdf\">Hamiltonian paths, closed complexes, and determinantal facet ideals</a> by Bruno Benedetti, Lisa Seccia and Matteo Varbaro.\n",
        "\n"
      ]
    },
    {
      "cell_type": "markdown",
      "metadata": {
        "id": "H3xtQcGjXjju"
      },
      "source": [
        "## Fixes and possible improvements\n",
        "\n",
        "*   Human readable input matrix format error.\n",
        "*   Support multiple (standard) input matrix formats.\n",
        "*   Cache results.\n"
      ]
    },
    {
      "cell_type": "markdown",
      "metadata": {
        "id": "ecImUZMtc8wb"
      },
      "source": [
        "## Setup"
      ]
    },
    {
      "cell_type": "code",
      "metadata": {
        "colab": {
          "base_uri": "https://localhost:8080/"
        },
        "id": "9JqOxkzVdAtG",
        "outputId": "5fd8d939-412c-4335-9709-45e85e70a553"
      },
      "source": [
        "import optparse\n",
        "import select\n",
        "import sys\n",
        "\n",
        "###\n",
        "# Set defaults..\n",
        "###\n",
        "\n",
        "def_list_of_facets = [[1,2], [1,3], [2,3], [2,4], [3,4], [3,5],[4,5],[4,6], [5,6], [1,5], [1,6], [2,6]]\n",
        "properties = (\"under-closed\", \"semi-closed\", \"weakly-closed\", \"chordal\", \"closed\", \"unit-interval\",\n",
        "              \"traceable\", \"hamiltonian\", \"weakly-traceable\", \"weakly-hamiltonian\")\n",
        "default_property = properties[0]\n",
        "vert_min = 2\n",
        "vert_max = 30\n",
        "\n",
        "###\n",
        "# Process arguments\n",
        "###\n",
        "\n",
        "parser = optparse.OptionParser()\n",
        "parser.add_option(\"-p\", \"--property\", action = \"store\", dest = \"property\",\n",
        "                  type = \"choice\", choices = properties, default = default_property,\n",
        "                  help = \"Property to analyze. Valid properties are %s. Default property is %s.\" % (properties, default_property))\n",
        "parser.add_option(\"-f\", help=optparse.SUPPRESS_HELP) # ignore google colab option\n",
        "(options, args) = parser.parse_args()\n",
        "\n",
        "###\n",
        "# Define helper functions\n",
        "###\n",
        "\n",
        "def exitCode (code, str = \"\"):\n",
        "  if str:\n",
        "    print(str, file=sys.stderr)\n",
        "  sys.exit(code)\n",
        "\n",
        "def containsConsecutiveSet (num_list, to):\n",
        "  return sorted(set(num_list)) == list(range(1, to + 1))\n",
        "\n",
        "def loadInputMatrix ():\n",
        "  try:\n",
        "    matrix = []\n",
        "    for line in sys.stdin:\n",
        "      if not line.strip():\n",
        "        continue\n",
        "      matrix.append([int(num) for num in line.split() if num != \" \"])\n",
        "    return matrix\n",
        "  except:\n",
        "    exitCode(2, \"Invalid input, %s occurred.\" % (sys.exc_info()[0]))\n",
        "\n",
        "def run (fn, fn_property):\n",
        "  if default_property != None and options.property != fn_property:\n",
        "    return\n",
        "  labeling = fn(list_of_facets, number_of_vertices)\n",
        "  if labeling:\n",
        "    print(labeling)\n",
        "  else:\n",
        "    exitCode(3)\n",
        "\n",
        "###\n",
        "# Process and validate variables\n",
        "###\n",
        "\n",
        "if select.select([sys.stdin], [], [], 0.0)[0]:\n",
        "  list_of_facets = loadInputMatrix()\n",
        "try:\n",
        "  if not list_of_facets:\n",
        "    raise NameError\n",
        "except NameError:\n",
        "  list_of_facets = def_list_of_facets\n",
        "  default_property = None # allow all in case of colab\n",
        "\n",
        "if len(list_of_facets) < 2:\n",
        "  exitCode(2, \"The input matrix must contain at least two rows.\")\n",
        "list_of_facets_flat = [item for sublist in list_of_facets for item in sublist]\n",
        "number_of_vertices = max(list_of_facets_flat)\n",
        "if number_of_vertices < vert_min or number_of_vertices > vert_max:\n",
        "  exitCode(2, \"Number of verticies must be in range %d to %d.\" % (vert_min, vert_max))\n",
        "if not containsConsecutiveSet(list_of_facets_flat, number_of_vertices):\n",
        "  exitCode(2, \"Input matrix does not contain a consecutive set from 1 to n.\")\n",
        "dimension = (len(list_of_facets[1]) - 1)\n"
      ],
      "execution_count": null,
      "outputs": [
        {
          "output_type": "stream",
          "text": [
            "Input simplicial complex\n",
            "[[1, 2], [1, 3], [2, 3], [2, 4], [3, 4], [3, 5], [4, 5], [4, 6], [5, 6], [1, 5], [1, 6], [2, 6]]\n",
            "\n"
          ],
          "name": "stdout"
        }
      ]
    },
    {
      "cell_type": "markdown",
      "metadata": {
        "id": "yHBYMnk6A1lf"
      },
      "source": [
        "## Define common *functions*"
      ]
    },
    {
      "cell_type": "code",
      "metadata": {
        "id": "0mwS6IICS84S"
      },
      "source": [
        "import itertools\n",
        "\n",
        "# Function that relabels vertices and therefore facets according to a given permutation \n",
        "\n",
        "def facets_relabeling (facets, perm):\n",
        "  ## Relabaled facets setting to empty array\n",
        "  relabeled_facets = []\n",
        "  ## Number of vertices in a facet (dimension of the complex + 1)\n",
        "  d = len(facets[1])\n",
        "  ## Going througt all the facets of the complex and relabeling\n",
        "  for k in range(0, len(facets)):\n",
        "    ## Setting the k-th relabaled facet to empy array ready to be filled  \n",
        "    relabeled_facet = []\n",
        "    ## Going throuht all the vertices of the k-th facet \n",
        "    for l in range(0, d):\n",
        "      ## Vertex before labeling\n",
        "      vertex = facets[k][l]\n",
        "      ## New label of the vertex\n",
        "      relabaled_vertex = perm[vertex-1]\n",
        "      ## Adding the new label \n",
        "      relabeled_facet.append(relabaled_vertex)\n",
        "    ## Sorting the labels to get increasing labeling of the facet   \n",
        "    relabeled_facet.sort()\n",
        "    ## Adding the relabaled facet to the list of relabaled facets\n",
        "    relabeled_facets.append(relabeled_facet)\n",
        "\n",
        "  return relabeled_facets\n",
        "\n",
        "## Function creating list of all potential facets from the under-closed condition\n",
        "## Recursively\n",
        "def expand (input):\n",
        "  output = []\n",
        "  for i in range(input[0]+1, input[1]+1):\n",
        "    if len(input) == 2:\n",
        "      output.append([input[0], i])\n",
        "      continue\n",
        "    input[1] = i\n",
        "    expanded = expand(input[1:])\n",
        "    for e in expanded:\n",
        "      e.insert(0, input[0])\n",
        "      output.append(e)\n",
        "  return output\n",
        "\n",
        "## Function creating list of all potential facets from the second condition\n",
        "## Recursively\n",
        "\n",
        "def expand_inv (input):\n",
        "  inp_len = len(input)\n",
        "  output = []\n",
        "  for i in range(input[-1] - 1, input[-2] - 1, -1):\n",
        "    if len(input) == 2:\n",
        "      output.append([i, input[1]])\n",
        "      continue\n",
        "    input[-2] = i\n",
        "    expanded = expand_inv(input[:-1])\n",
        "    for e in expanded:\n",
        "      e.append(input[-1])\n",
        "      output.append(e)\n",
        "  return output\n",
        "\n",
        "def find_max_index (index, a, curr):\n",
        "  ans = -1\n",
        "  index = 0\n",
        "  for i in range(index, len(a)):\n",
        "    if a[i] > curr:\n",
        "      if ans == -1:\n",
        "        ans = curr\n",
        "        index = i\n",
        "      else:\n",
        "        ans = min(ans, a[i])\n",
        "        index = i\n",
        "  return index\n",
        "\n",
        "## Create power set of a list (set of all subsets). This is a generator.\n",
        "def power_set(seq):\n",
        "  if len(seq) <= 1:\n",
        "    yield seq\n",
        "    yield []\n",
        "  else:\n",
        "    for item in power_set(seq[1:]):\n",
        "      yield [seq[0]]+item\n",
        "      yield item\n"
      ],
      "execution_count": null,
      "outputs": []
    },
    {
      "cell_type": "markdown",
      "metadata": {
        "id": "RCOhcAduCbSa"
      },
      "source": [
        "## Under-closed check\n",
        "A pure $d$-dimensional simplicial complex $\\Delta$ is under-closed if there is a vertex labeling of $\\Delta$ such that for every $d$-face $F=a_0a_1\\dots a_d$ (written with $a_0<a_1<\\dots <a_d$) the complex $\\Delta$ contains all faces of the form $a_0b_1b_2\\dots b_d$ with $b_1\\leq a_1$, $b_2\\leq a_2$, $\\dots$, $b_d\\leq a_d$. "
      ]
    },
    {
      "cell_type": "code",
      "metadata": {
        "id": "wMPzclBQt-3S",
        "colab": {
          "base_uri": "https://localhost:8080/"
        },
        "outputId": "067a486b-54ca-411e-bc07-02c0575bb4e1"
      },
      "source": [
        "####################################################################\n",
        "\n",
        "## Checking under-closed condition for a given labeling \n",
        "## Returns True if the labeling is under-closed\n",
        "## Returns False if the labeling is NOT under-closed\n",
        "\n",
        "def is_underclosed_labeling (facets_labeling):\n",
        "  ## Going througt all the facets of the CS \n",
        "  for k in range(0, len(facets_labeling)):\n",
        "  ## Generating list of potencial facets G for given F\n",
        "    under_faces = expand(facets_labeling[k])\n",
        "    for G in under_faces:\n",
        "      ## If G not in the original list of facets --> not under-closed; return False\n",
        "      if not G in facets_labeling:\n",
        "        #print('The labeling', facets_labeling, 'is NOT under-closed. For example the face', G, 'is missing.')\n",
        "        return False\n",
        "  ## If for all facets condition true --> under-closed; return True\n",
        "  return True\n",
        "\n",
        "######################################################################\n",
        "\n",
        "## Check UC for all labelings\n",
        "## For every permutation on 'number_of_vertices' elements, we check the desired condition.\n",
        "\n",
        "def underclosed_SC (facets_list, number_of_vert):\n",
        "  ## Go through all the permutations\n",
        "  def_perm = list(range(1, number_of_vert + 1))\n",
        "  for perm in itertools.permutations(def_perm):\n",
        "    ## Relable the vertices according to new permutation\n",
        "    new_labeling = facets_relabeling(list_of_facets, perm)\n",
        "    ## Check if this labeling makes the CS under-closed\n",
        "    if is_underclosed_labeling(new_labeling):\n",
        "      return new_labeling\n",
        "  return []\n",
        " \n",
        " ########################################################################\n",
        "\n",
        "run(underclosed_SC, properties[0])\n"
      ],
      "execution_count": null,
      "outputs": [
        {
          "output_type": "stream",
          "text": [
            "is NOT under-closed\n",
            "\n"
          ],
          "name": "stdout"
        }
      ]
    },
    {
      "cell_type": "markdown",
      "metadata": {
        "id": "CLNe6I74CU9z"
      },
      "source": [
        "## Semi-closed check\n",
        "\n",
        "A pure $d$-dimensional simplicial complex $\\Delta$ is semi-closed if there is a vertex labeling of $\\Delta$ such that for every $d$-face $F=a_0a_1\\dots a_d$ (written with $a_0 < a_1<\\dots < a_d$) at least one of the following conditions hold:\n",
        "1. (*underclosed condition*) the complex $\\Delta$ contains all faces of the form $a_0b_1b_2\\dots b_d$ with $b_1\\leq a_1$, $b_2\\leq a_2$, $\\dots$, $b_d\\leq a_d$, or\n",
        "2. the complex $\\Delta$ contains all faces of the form $i_0i_1 \\dots i_{d-1}a_d$ with $i_0\\geq a_0$, $i_1\\geq a_1$, $\\dots$, $i_{d-1} \\geq a_{d-1}$. "
      ]
    },
    {
      "cell_type": "code",
      "metadata": {
        "id": "u9wuXUs5C_Iq",
        "colab": {
          "base_uri": "https://localhost:8080/"
        },
        "outputId": "fc82ce90-2a3f-4b13-84b2-4e1e19737405"
      },
      "source": [
        "###########################################################################\n",
        "\n",
        "## Checking semi-closed condition for a given labeling \n",
        "## Returns True if the labeling is semi-closed\n",
        "## Returns False if the labeling is NOT semi-closed\n",
        "\n",
        "def is_semi_closed_labeling (facets_labeling):\n",
        "  ## Going througt all the facets of the CS \n",
        "  for k in range(0, len(facets_labeling)):\n",
        "  ## Generating lists of potencial facets G for given F\n",
        "    under_faces = expand(facets_labeling[k])\n",
        "    above_faces = expand_inv(facets_labeling[k])\n",
        "    ## Set under and semi_two to True.\n",
        "    ## Will change to False if some face is missing  \n",
        "    under = True\n",
        "    semi_two = True\n",
        "    for G in under_faces:\n",
        "      ## If G not in the underclosed list of facets --> not underclosed; set under to False\n",
        "      if not G in facets_labeling:\n",
        "        under = False\n",
        "        G_under_false = G\n",
        "        break\n",
        "    for G in above_faces:\n",
        "      ## If G not in the semi-closed list of facets --> not SM; set semi_two to False\n",
        "      if not G in facets_labeling:\n",
        "        semi_two = False\n",
        "        G_semi_false = G\n",
        "        break\n",
        "    ## If both conditions for a given facet False, then the labeling NOT SM\n",
        "    if not under and not semi_two:\n",
        "      #print('The labeling', facets_labeling, 'is NOT semi-closed. One of the following facets would have to be present:', G_under_false, 'or', G_semi_false, 'for the facet', facets_labeling[k] )\n",
        "      return False\n",
        "  ## If at least one of the conditions for all the facets True, then the labeling is SM  \n",
        "  #print('The labeling', facets_labeling, 'is semi-closed.')\n",
        "  return True \n",
        "#######################################################################\n",
        "\n",
        "## For every permutation on 'number_of_vertices' elements, we check the desired condition.\n",
        "\n",
        "def semi_closed_SC(facets_list, number_of_vert):\n",
        "  ## Go through all the permutations\n",
        "  def_perm = list(range(1, number_of_vert + 1))\n",
        "  for perm in itertools.permutations(def_perm):\n",
        "    ## Relable the vertices according to new permutation\n",
        "    new_labeling = facets_relabeling(list_of_facets, perm)\n",
        "    ## Check if this labeling makes the CS underclosed\n",
        "    if is_semi_closed_labeling(new_labeling):\n",
        "      return new_labeling\n",
        "  return []\n",
        "#########################################################################\n",
        "\n",
        "run(semi_closed_SC, properties[1])\n"
      ],
      "execution_count": null,
      "outputs": [
        {
          "output_type": "stream",
          "text": [
            "is semi-closed with the labeling\n",
            "[[1, 2], [1, 3], [2, 3], [2, 6], [3, 6], [3, 5], [5, 6], [4, 6], [4, 5], [1, 5], [1, 4], [2, 4]]\n",
            "\n"
          ],
          "name": "stdout"
        }
      ]
    },
    {
      "cell_type": "markdown",
      "metadata": {
        "id": "x2izbTIZ740C"
      },
      "source": [
        "## Weakly-closed check\n",
        "\n",
        "A pure $d$-dimensional simplicial complex $\\Delta$ is weakly-closed if there is a vertex labeling of $\\Delta$ such that for every $d$-face $F=a_0a_1\\dots a_d$ (written with $a_0<a_1<\\dots <a_d$) and for every $g\\notin F$ with $a_0<g<a_d$ there exists a $d$-face $G$ adjacent to $F$ containing $g$ such that either $\\max G \\neq \\max F$ or $\\min G \\neq \\min F$."
      ]
    },
    {
      "cell_type": "code",
      "metadata": {
        "id": "KMIyILMl-K2M",
        "colab": {
          "base_uri": "https://localhost:8080/"
        },
        "outputId": "e8af212f-3fbb-43b2-9690-d27442a5c45b"
      },
      "source": [
        "## Function to check WC condition for a given facet \n",
        "def is_WC_facet (F, facets_labeling):\n",
        "  ## Find all g such that a_0 < g < a_d\n",
        "  b = [*range(F[0], F[-1] + 1)]\n",
        "  ## Filter those in F\n",
        "  gs = list(set(b) - set(F)) \n",
        "  ## For each g with given condition\n",
        "  for g in gs:\n",
        "    ## Go through all the facets in the CS containig g and check max/min and adjecency\n",
        "    g_ok = False\n",
        "    for G in facets_labeling:\n",
        "      if g in G and (F[0] != G[0] or F[-1] !=G [-1]) and len(set(F).intersection(G)) == len(F) - 1:\n",
        "        g_ok = True\n",
        "        break\n",
        "    if not g_ok:\n",
        "      #!!!print('Missing a suitable facet for ', g, 'adjecent to ', F)\n",
        "      return False\n",
        "  #print('WC condition ok for', F)\n",
        "  return True \n",
        "\n",
        "#####################################################################\n",
        "## Check if a given labeling has the weakly closed condition\n",
        "def is_WC_labeling (facets_labeling): \n",
        "  ## Check all facet with the above function\n",
        "  for F in facets_labeling:\n",
        "    if not is_WC_facet(F, facets_labeling):\n",
        "      #print('labeling', facets_labeling, 'is not WC')\n",
        "      return False\n",
        "  #print('labeling', facets_labeling, 'is WC')\n",
        "  return True\n",
        "\n",
        "###################################################################\n",
        "## For every permutation on 'number_of_vertices' elements, we check the desired condition.\n",
        "\n",
        "def WC_SC (facets_list, number_of_vert):\n",
        "  ## Go through all the permutations\n",
        "  def_perm = list(range(1, number_of_vert + 1))\n",
        "  for perm in itertools.permutations(def_perm):\n",
        "    ## Relable the vertices according to new permutation\n",
        "    new_labeling = facets_relabeling(list_of_facets, perm)\n",
        "    ## Check if this labeling makes the CS underclosed\n",
        "    if is_WC_labeling(new_labeling):\n",
        "      return new_labeling\n",
        "  return []\n",
        "\n",
        "##################################################################\n",
        "run(WC_SC, properties[2])\n"
      ],
      "execution_count": null,
      "outputs": [
        {
          "output_type": "stream",
          "text": [
            "is weakly-closed with the labeling\n",
            "[[1, 2], [1, 3], [2, 3], [2, 4], [3, 4], [3, 5], [4, 5], [4, 6], [5, 6], [1, 5], [1, 6], [2, 6]]\n",
            "\n"
          ],
          "name": "stdout"
        }
      ]
    },
    {
      "cell_type": "markdown",
      "metadata": {
        "id": "syrfmbswfKxR"
      },
      "source": [
        "## d-chordal check\n",
        "A pure $d$-dimensional simplicial complex $\\Delta$ is d-chordal if there is a vertex labeling of $\\Delta$ such that for every pair of $d$-faces $F=a_0a_1\\dots a_d$ and $G=b_0b_1\\dots b_d$ (written in increasing order) with  $a_d=b_d$, the complex $\\Delta$ contains the whole $d$-skeleton of the simplex on $F \\cup G$."
      ]
    },
    {
      "cell_type": "code",
      "metadata": {
        "id": "MNTHche-h9R9",
        "colab": {
          "base_uri": "https://localhost:8080/"
        },
        "outputId": "9d96de83-11c5-431d-a3c7-d28c5cec3f76"
      },
      "source": [
        "## Function to check d-chordal condition for given pair of facets *with the same maximum*\n",
        "\n",
        "## A tool to print all combinations of given length \n",
        "from itertools import combinations\n",
        " \n",
        "## Note: not checking for the same max of F and G \n",
        "def d_chordal_for_pair_of_facets (F, G, facets_labeling):\n",
        "  ## Do union of elements of F and G without repetitions\n",
        "  union_F_G = list(set(F + G))\n",
        "  ## Get all combinations of F union G of lenght len(F) == d-skeleton on F unoin G\n",
        "  ## Already sorted!\n",
        "  d_skeleton = [*combinations(union_F_G, len(F))]\n",
        "  for H in d_skeleton:\n",
        "    L=[*H]\n",
        "    if L not in facets_labeling:\n",
        "      # print('This labeling is not d-chordal. Missing face', L, 'for the pair', F, G)\n",
        "      return False\n",
        "  return True \n",
        "\n",
        "##############################################################################\n",
        "## Fucntion to check if a given labeling is d-chordal\n",
        "## Find all facet pairs with the same maximum and check d-chordality condition for them \n",
        "def is_d_chordal_labeling (facets_labeling):\n",
        "  ## Going through all the facet pairs (F, G)\n",
        "  for var in combinations(facets_labeling, 2): \n",
        "    ## If the maximum of F and G is the same, check the d-chord condition\n",
        "    if var[0][-1] == var[1][-1]: \n",
        "      if not d_chordal_for_pair_of_facets(var[0], var[1], facets_labeling):\n",
        "        #print('This labeling is not d-chordal. The trouble pair is', var[0], var[1] )\n",
        "        return False \n",
        "      #print('ok pair')\n",
        "  #print('The labeling', facets_labeling, 'is d-chordal')   \n",
        "  return True\n",
        "\n",
        "#############################################################################\n",
        "## For every permutation on 'number_of_vertices' elements, we check the desired condition.\n",
        "\n",
        "def d_chordal_SC (facets_list, number_of_vert):\n",
        "  ## Go through all the permutations\n",
        "  def_perm = list(range(1, number_of_vert + 1))\n",
        "  for perm in itertools.permutations(def_perm):\n",
        "    ## Relable the vertices according to new permutation\n",
        "    new_labeling = facets_relabeling(list_of_facets, perm)\n",
        "    ## Check if this labeling makes the CS underclosed\n",
        "    if is_d_chordal_labeling(new_labeling):\n",
        "      return new_labeling\n",
        "  return []\n",
        "\n",
        "##############################################################################\n",
        "\n",
        "run(d_chordal_SC, properties[3])\n"
      ],
      "execution_count": null,
      "outputs": [
        {
          "output_type": "stream",
          "text": [
            "is NOT chordal\n",
            "\n"
          ],
          "name": "stdout"
        }
      ]
    },
    {
      "cell_type": "markdown",
      "metadata": {
        "id": "XF13iCcwBOkV"
      },
      "source": [
        "## Closed check\n",
        " A pure $d$-dimensional simplicial complex $\\Delta$ is closed if there exists a vertex labeling of $\\Delta$ such that for every pair of $d$-faces $F=a_0a_1\\dots a_d$ and $G=b_0b_1\\dots b_d$ (written in increasing order) with  $a_i=b_i$ for some $i$, the complex $\\Delta$ contains the full $d$-skeleton of the simplex on $F \\cup G$."
      ]
    },
    {
      "cell_type": "code",
      "metadata": {
        "id": "yS8qdM_pA_KW",
        "colab": {
          "base_uri": "https://localhost:8080/"
        },
        "outputId": "91b68ada-0b6f-473a-a848-7fd16686c0c3"
      },
      "source": [
        "## Function to check closed condition for a given pair of facets\n",
        "\n",
        "## A tool to print all combinations of given length \n",
        "from itertools import combinations \n",
        "\n",
        "## Note: not checking for the same a_i=b_i of F and G \n",
        "def is_closed_pair_of_facets (F, G, facets_labeling):\n",
        "  ## Do union of elements of F and G without repetitions\n",
        "  union_F_G = list(set(F + G))\n",
        "  ## Get all combinations of F union G of lenght len(F) == d-skeleton on F unoin G\n",
        "  ## Already sorted!\n",
        "  d_skeleton = [*combinations(union_F_G, len(F))]\n",
        "  for H in d_skeleton:\n",
        "    L = [*H]\n",
        "    if L not in facets_labeling:\n",
        "     # print('This labeling is not closed. Missing face', L, 'for the pair', F, G)\n",
        "      return False\n",
        "  return True \n",
        "\n",
        "##############################################################################\n",
        "## Fucntion to check if a given labeling is closed\n",
        "## Find all facet pairs with the same i-th coordinate and check closed condition for them\n",
        "def is_closed_labeling (facets_labeling):\n",
        "  ## Going through all the facet pairs (F, G)\n",
        "  n = len(facets_labeling[0])\n",
        "  for var in combinations(facets_labeling, 2): \n",
        "    ## If the i-th coordinate of F and G is the same, check the closed condition\n",
        "    for i in range(0,n):\n",
        "      if var[0][i] == var[1][i]: \n",
        "        if not is_closed_pair_of_facets(var[0], var[1], facets_labeling):\n",
        "          #print('This labeling', facets_labeling,' is not closed. The trouble pair is', var[0], var[1] )\n",
        "          return False \n",
        "        break\n",
        "  #print('The labeling', facets_labeling, 'is closed')   \n",
        "  return True\n",
        "\n",
        "#############################################################################\n",
        "## For every permutation on 'number_of_vertices' elements, we check the desired condition.\n",
        "\n",
        "def closed_SC (facets_list, number_of_vert):\n",
        "  ## Go through all the permutations\n",
        "  def_perm = list(range(1, number_of_vert + 1))\n",
        "  for perm in itertools.permutations(def_perm):\n",
        "    ## Relable the vertices according to new permutation\n",
        "    new_labeling = facets_relabeling(list_of_facets, perm)\n",
        "    ## Check if this labeling makes the CS underclosed\n",
        "    if is_closed_labeling(new_labeling):\n",
        "      return new_labeling\n",
        "  return []\n",
        "\n",
        "##############################################################################\n",
        "\n",
        "run(closed_SC, properties[4])\n"
      ],
      "execution_count": null,
      "outputs": [
        {
          "output_type": "stream",
          "text": [
            "is NOT closed\n",
            "\n"
          ],
          "name": "stdout"
        }
      ]
    },
    {
      "cell_type": "markdown",
      "metadata": {
        "id": "ycAT069nQ6od"
      },
      "source": [
        "## Unit-interval CS check\n",
        "Let $\\Delta$ be a pure $d$-dimensional simplicial complex with $n$ vertices. The complex $\\Delta$ is called unit-interval (previously almost-closed) if there exists a labeling $1, \\ldots, n$ of its vertices such that  for any $d$-face $F=a_0 a_1 \\cdots a_d$ of $\\Delta$, the complex $\\Delta$ contains the whole $d$-skeleton of the simplex with vertex set $\\{a_0, a_0 +1, a_0 + 2, \\ldots, a_d\\}$."
      ]
    },
    {
      "cell_type": "code",
      "metadata": {
        "id": "JCo0T1-lRlyf",
        "colab": {
          "base_uri": "https://localhost:8080/"
        },
        "outputId": "29d674ba-d40b-463a-b5e7-42433e9f666b"
      },
      "source": [
        "## Function to check unit-interval (previously almost-closed) condition for a given facet\n",
        "## A tool to print all combinations of given length \n",
        "from itertools import combinations\n",
        "\n",
        "def is_unit_interval_facet (F, facets_labeling):\n",
        "  ## Do union of elements of F and G without repetitions\n",
        "  set_for_F = list(range(F[0], F[-1] + 1))\n",
        "  # print('facet', F, 'set', set_for_F)\n",
        "  ## Get all combinations of {a_0, a_0+1, ..., a_d} of lenght len(F) = d-skeleton on the set of vertices\n",
        "  ## Already sorted!\n",
        "  d_skeleton = [*combinations(set_for_F, len(F))]\n",
        "  #print(d_skeleton)\n",
        "  for H in d_skeleton:\n",
        "    L = [*H]\n",
        "    if L not in facets_labeling:\n",
        "      #print('This labeling is not unit-interval. Missing face', L, 'for the facet', F)\n",
        "      return False\n",
        "  #print('The facet', F ,'passed the unit-interval test')\n",
        "  return True \n",
        "\n",
        "##############################################################################\n",
        "## Fucntion to check if a given labeling is unit-interval\n",
        "def is_unit_interval_labeling (facets_labeling):\n",
        "  #print(facets_labeling)\n",
        "  ## Going through all the facets F\n",
        "  n = len(facets_labeling[0])\n",
        "  #print('dimension is', n-1)\n",
        "  for var in facets_labeling: \n",
        "    #print(var)\n",
        "    ## check the unit-interval condition\n",
        "    if not is_unit_interval_facet(var, facets_labeling):\n",
        "      #print('This labeling', facets_labeling,' is not unit-interval. The trouble facet is', var)\n",
        "      return False \n",
        "  #print('The labeling', facets_labeling, 'is unit-interval')   \n",
        "  return True\n",
        "\n",
        "##############################################################################\n",
        "## For every permutation on 'number_of_vertices' elements, we check the desired condition.\n",
        "\n",
        "def almost_closed_SC(facets_list, number_of_vert):\n",
        "  ## Go through all the permutations\n",
        "  def_perm = list(range(1, number_of_vert + 1))\n",
        "  for perm in itertools.permutations(def_perm):\n",
        "    ## Relable the vertices according to new permutation\n",
        "    new_labeling = facets_relabeling(list_of_facets, perm)\n",
        "    ## Check if this labeling makes the CS underclosed\n",
        "    if is_unit_interval_labeling(new_labeling):\n",
        "      return new_labeling\n",
        "  return []\n",
        "\n",
        "##############################################################################\n",
        "\n",
        "run(almost_closed_SC, properties[5])\n"
      ],
      "execution_count": null,
      "outputs": [
        {
          "output_type": "stream",
          "text": [
            "is NOT unit-interval\n",
            "\n"
          ],
          "name": "stdout"
        }
      ]
    },
    {
      "cell_type": "markdown",
      "metadata": {
        "id": "WVilNZBxL0nL"
      },
      "source": [
        "## Traceable\n",
        "A pure $d$-dimensional simplicial complex $\\Delta$ with n vertices is Traceable if there is a vertex labeling of $\\Delta$ such that $\\Delta$ contains facets $H_1$, $H_2$, $\\dots$, $H_{n-d}$. Where $H_i$ is the facet $(i, i+1, \\dots , i+d)$. "
      ]
    },
    {
      "cell_type": "code",
      "metadata": {
        "id": "xiedjEQhL4Y5",
        "colab": {
          "base_uri": "https://localhost:8080/"
        },
        "outputId": "556a60b1-a0e2-415f-fc6d-1cf0e6ad0fea"
      },
      "source": [
        "## Checking Traceable \n",
        "## Returns True if the labeling is Traceable\n",
        "## Returns False if the labeling is NOT Traceable\n",
        "\n",
        "def is_traceable_labeling (facets_labeling):\n",
        "  ## Create H_1\n",
        "  Hi = []\n",
        "  for k in range (1, dimension + 2):\n",
        "    Hi.append(k)\n",
        "    #print(Hi)\n",
        "  if Hi not in facets_labeling:\n",
        "    #print('The labeling', facets_labeling, 'is NOT Traceable. ', Hi, ' is missing.')\n",
        "    return False\n",
        "  ## Going througt all the H_i's and checking if they belong to the labeling \n",
        "  for i in range(2, number_of_vertices - dimension +1):\n",
        "    #print(i)\n",
        "    ## Create H_i from H_{i-1}\n",
        "    # using del list[0] to perform removal of the 1st element\n",
        "    del Hi[0]\n",
        "    #print(Hi)\n",
        "    Hi.append(i + dimension)\n",
        "    #print(Hi)\n",
        "    if Hi not in facets_labeling:\n",
        "      #print('The labeling', facets_labeling, 'is NOT Traceable. ', Hi, ' is missing.')\n",
        "      return False\n",
        "  ## If all facets H_i are present --> Traceable; return True\n",
        "  return True\n",
        "\n",
        "#print(is_traceable_labeling(list_of_facets))\n",
        "######################################################################\n",
        "\n",
        "## Check Traceable for all labelings\n",
        "## For every permutation on 'number_of_vertices' elements, we check the desired condition.\n",
        "\n",
        "def traceable_SC (facets_list, number_of_vert):\n",
        "  ## Go through all the permutations\n",
        "  def_perm = list(range(1, number_of_vert + 1))\n",
        "  for perm in itertools.permutations(def_perm):\n",
        "    ## Relable the vertices according to new permutation\n",
        "    new_labeling = facets_relabeling(list_of_facets, perm)\n",
        "    ## Check if this labeling makes the CS tr.\n",
        "    if is_traceable_labeling(new_labeling):\n",
        "      return new_labeling\n",
        "  return []\n",
        "\n",
        "run(traceable_SC, properties[6])"
      ],
      "execution_count": null,
      "outputs": [
        {
          "output_type": "stream",
          "text": [
            "is traceable with the labeling\n",
            "[[1, 2], [1, 3], [2, 3], [2, 4], [3, 4], [3, 5], [4, 5], [4, 6], [5, 6], [1, 5], [1, 6], [2, 6]]\n",
            "\n"
          ],
          "name": "stdout"
        }
      ]
    },
    {
      "cell_type": "markdown",
      "metadata": {
        "id": "OAOzBExrMkdY"
      },
      "source": [
        "## Hamiltonian\n",
        "A pure $d$-dimensional simplicial complex $\\Delta$ with n vertices is Traceable if there is a vertex labeling of $\\Delta$ such that $\\Delta$ contains facets $H_1$, $H_2$, $\\dots$, $H_{n}$. Where $H_i$ is the facet $(i , i+1 , \\dots , i+d)$ using modulo $n$ for anyting greater then $n$. For instance $H_n = (1,2,3, \\dots d, n)$."
      ]
    },
    {
      "cell_type": "code",
      "metadata": {
        "id": "ZIuItcvsMm_i",
        "colab": {
          "base_uri": "https://localhost:8080/"
        },
        "outputId": "faa356cb-c13a-4b01-968b-6def2b364bf2"
      },
      "source": [
        "## Checking Hamiltonian \n",
        "## Returns True if the labeling is Traceable\n",
        "## Returns False if the labeling is NOT Traceable\n",
        "\n",
        "def is_hamiltonian_labeling (facets_labeling):\n",
        "  ## Create H_1\n",
        "  Hi = []\n",
        "  for k in range (1, dimension + 2):\n",
        "    Hi.append(k)\n",
        "  if Hi not in facets_labeling:\n",
        "    #print('The labeling', facets_labeling, 'is NOT Traceable. ', Hi, ' is missing.')\n",
        "    return False\n",
        "  ## Going througt all the H_i's and checking if they belong to the labeling\n",
        "  # i from 2 to n-d \n",
        "  for i in range(2, number_of_vertices - dimension + 1):\n",
        "    #print(i)\n",
        "    ## Create H_i from H_{i-1}\n",
        "    # using del list[0] to perform removal of the 1st element\n",
        "    del Hi[0]\n",
        "    Hi.append(i + dimension)\n",
        "    if Hi not in facets_labeling:\n",
        "      return False\n",
        "  # i from n-d+1 to n\n",
        "  for i in range(1,dimension + 1):\n",
        "    del Hi[0]\n",
        "    Hi.append(i)\n",
        "    Hi_sort = sorted(Hi)\n",
        "    if Hi_sort not in facets_labeling:\n",
        "      return False\n",
        "  ## If all facets H_i are present --> Hamiltonian; return True\n",
        "  return True\n",
        "\n",
        "#print(is_hamiltonian_labeling(list_of_facets))\n",
        "######################################################################\n",
        "\n",
        "## Check Hamiltonian for all labelings\n",
        "## For every permutation on 'number_of_vertices' elements, we check the desired condition.\n",
        "\n",
        "def hamiltonian_SC (facets_list, number_of_vert):\n",
        "  ## Go through all the permutations\n",
        "  def_perm = list(range(1, number_of_vert + 1))\n",
        "  for perm in itertools.permutations(def_perm):\n",
        "    ## Relable the vertices according to new permutation\n",
        "    new_labeling = facets_relabeling(list_of_facets, perm)\n",
        "    ## Check if this labeling makes the CS under-closed\n",
        "    if is_hamiltonian_labeling(new_labeling):\n",
        "      return new_labeling\n",
        "  return []\n",
        "\n",
        "run(hamiltonian_SC, properties[7])"
      ],
      "execution_count": null,
      "outputs": [
        {
          "output_type": "stream",
          "text": [
            "is hamiltonian with the labeling\n",
            "[[1, 2], [1, 3], [2, 3], [2, 4], [3, 4], [3, 5], [4, 5], [4, 6], [5, 6], [1, 5], [1, 6], [2, 6]]\n",
            "\n"
          ],
          "name": "stdout"
        }
      ]
    },
    {
      "cell_type": "markdown",
      "metadata": {
        "id": "0PUePQnINgrv"
      },
      "source": [
        "## Weakly-Traceable\n",
        "A pure $d$-dimensional simplicial complex $\\Delta$ with $n$ vertices is wealky-traceable if there is a vertex labeling of $\\Delta$ such that $\\Delta$ contains a subset $H_{i_1}$, $H_{i_2}$, $\\dots$, $H_{i_k}$ of $\\{H_1, H_2 \\dots , H_{n-d} \\}$ that\n",
        "1. covers all the vertices and \n",
        "2. $H_{i_{j}}$ is incident (non-empty intersection) to $H_{i_{j+1}}$ for each $j \\in \\{1, 2, \\dots , k-1\\}$.\n",
        "\n",
        "Here $H_i$ is the facet $(i, i+1, \\dots , i+d)$. "
      ]
    },
    {
      "cell_type": "code",
      "metadata": {
        "id": "_ArwnSJ4NjJq",
        "colab": {
          "base_uri": "https://localhost:8080/"
        },
        "outputId": "369d7c34-642e-4b7e-d89b-9fb93eb1c7fb"
      },
      "source": [
        "## Checking if a labeling in W-T \n",
        "## Returns True if the labeling is \n",
        "## Returns False if the labeling is NOT\n",
        "\n",
        "def is_weakly_traceable_labeling (facets_labeling):\n",
        "  #print('-----------------')\n",
        "  ## Create list oh H_i's\n",
        "  ## Create H_1\n",
        "  his = []\n",
        "  hi = []\n",
        "  for k in range (1, dimension + 2):\n",
        "    hi.append(k)\n",
        "  his.append(hi.copy())\n",
        "  ## Creating all the other H_i's and adding them to the list of H_i's \n",
        "  for i in range(2, number_of_vertices - dimension +1):\n",
        "    ## Create H_i from H_{i-1}\n",
        "    # using del list[0] to perform removal of the 1st element\n",
        "    del hi[0]\n",
        "    hi.append(i + dimension)\n",
        "    his.append(hi.copy())\n",
        "  ## Now his contains all the H_i's\n",
        "  ## Eliminate all H_i's that are NOT in the labaling\n",
        "  # print(facets_labeling)\n",
        "  # print(his)\n",
        "  new_his = [value for value in his if value in facets_labeling]\n",
        "  #print(new_his)\n",
        "  ## We need its power set\n",
        "  ## Lazily iterate over power set\n",
        "  for his_subset in power_set(new_his):\n",
        "    if his_subset != []:\n",
        "      #print(his_subset)\n",
        "      his_subset_flat = [item for sublist in his_subset for item in sublist]\n",
        "      # print(his_subset_flat)\n",
        "      if all(x in his_subset_flat for x in [*range(1, number_of_vertices+1)]):\n",
        "        length = len(his_subset)\n",
        "        for j in range(0, length-1):\n",
        "          if any(k in his_subset[j] for k in his_subset[j+1]):\n",
        "            if j == length-2:\n",
        "              #print(his_subset)\n",
        "              return True\n",
        "          else: break\n",
        "  return False\n",
        "#print(is_weakly_traceable_labeling(list_of_facets))\n",
        "\n",
        "######################################################################\n",
        "\n",
        "######################################################################\n",
        "\n",
        "## Check Weakly Traceable for all labelings\n",
        "## For every permutation on 'number_of_vertices' elements, we check the desired condition.\n",
        "\n",
        "def weakly_traceable_SC (facets_list, number_of_vert):\n",
        "  ## Go through all the permutations\n",
        "  def_perm = list(range(1, number_of_vert + 1))\n",
        "  for perm in itertools.permutations(def_perm):\n",
        "    ## Relable the vertices according to new permutation\n",
        "    new_labeling = facets_relabeling(list_of_facets, perm)\n",
        "    ## Check if this labeling makes the CS under-closed\n",
        "    if is_weakly_traceable_labeling(new_labeling):\n",
        "      return new_labeling\n",
        "  return []\n",
        "\n",
        "run(weakly_traceable_SC, properties[8])"
      ],
      "execution_count": null,
      "outputs": [
        {
          "output_type": "stream",
          "text": [
            "is weakly-traceable with the labeling\n",
            "[[1, 2], [1, 3], [2, 3], [2, 4], [3, 4], [3, 5], [4, 5], [4, 6], [5, 6], [1, 5], [1, 6], [2, 6]]\n",
            "\n"
          ],
          "name": "stdout"
        }
      ]
    },
    {
      "cell_type": "markdown",
      "metadata": {
        "id": "R9Fun7U0Nv28"
      },
      "source": [
        "## Weakly-Hamitonian\n",
        "A $d$-dimensional simplicial complex $\\Delta$ is weakly-Hamiltonian if it has a labeling such that $\\Delta$ contains a subset $H_{i_1}$\n",
        ", $\\dots$, $H_{i_k}$ of $\\{H_1, \\dots , H_n\\}$ that \n",
        "\n",
        "1. altogether cover all vertices, \n",
        "2. $H_{i_j}$ is incident to $H_{i_{j+1}}$ for each $j \\in \\{1, \\dots , k −1\\}$, \n",
        "3. $H_{i_k}$ is incident to $H_{i_1}$."
      ]
    },
    {
      "cell_type": "code",
      "metadata": {
        "id": "jBOx4tUNNxM0",
        "colab": {
          "base_uri": "https://localhost:8080/"
        },
        "outputId": "984725ff-dff2-492a-96ef-c8bbcb2e1720"
      },
      "source": [
        "## Checking if a labeling in W-H \n",
        "## Returns True if the labeling is \n",
        "## Returns False if the labeling is NOT\n",
        "\n",
        "def is_weakly_hamiltonian_labeling (facets_labeling):\n",
        "  #print('-----------------')\n",
        "  ## Create list oh H_i's\n",
        "  ## Create H_1\n",
        "  his = []\n",
        "  hi = []\n",
        "  for k in range (1, dimension + 2):\n",
        "    hi.append(k)\n",
        "  his.append(hi.copy())\n",
        "  ## Creating the H_i's i=1, 2, ..., n-d and adding them to the list of H_i's \n",
        "  for i in range(2, number_of_vertices - dimension +1):\n",
        "    ## Create H_i from H_{i-1}\n",
        "    # using del list[0] to perform removal of the 1st element\n",
        "    del hi[0]\n",
        "    hi.append(i + dimension)\n",
        "    his.append(hi.copy())\n",
        "  ## Creating the H_i's i=n-d+1, ..., n and adding them to the list of H_i's\n",
        "  for i in range(1, dimension + 1):\n",
        "    del hi[0]\n",
        "    hi.append(i)\n",
        "    hi_sort = sorted(hi)\n",
        "    his.append(hi_sort.copy())\n",
        "  ## Now his contains all the H_i's\n",
        "  ## Eliminate all H_i's that are NOT in the labaling\n",
        "  # print(facets_labeling)\n",
        "  # print(his)\n",
        "  new_his = [value for value in his if value in facets_labeling]\n",
        "  # print(new_his)\n",
        "  ## We need its power set\n",
        "  ## Lazily iterate over power set\n",
        "  for his_subset in power_set(new_his):\n",
        "    if his_subset != []:\n",
        "      # print(his_subset)\n",
        "      his_subset_flat = [item for sublist in his_subset for item in sublist]\n",
        "      # print(his_subset_flat)\n",
        "      if all(x in his_subset_flat for x in [*range(1, number_of_vertices+1)]):\n",
        "        if any(m in his_subset[0] for m in his_subset[-1]):\n",
        "          length = len(his_subset)\n",
        "          for j in range(0, length-1):\n",
        "            if any(k in his_subset[j] for k in his_subset[j+1]):\n",
        "              # print(j, his_subset[j], his_subset[j+1])\n",
        "              if j == length-2:\n",
        "                #print(his_subset)\n",
        "                return True\n",
        "            else: break\n",
        "  return False\n",
        "# print(is_weakly_hamiltonian_labeling(list_of_facets))\n",
        "\n",
        "######################################################################\n",
        "\n",
        "######################################################################\n",
        "\n",
        "# Check Weakly-Hamiltonian for all labelings\n",
        "# For every permutation on 'number_of_vertices' elements, we check the desired condition.\n",
        "\n",
        "def weakly_hamiltonian_SC (facets_list, number_of_vert):\n",
        "  ## Go through all the permutations\n",
        "  def_perm = list(range(1, number_of_vert + 1))\n",
        "  for perm in itertools.permutations(def_perm):\n",
        "    ## Relable the vertices according to new permutation\n",
        "    new_labeling = facets_relabeling(list_of_facets, perm)\n",
        "    ## Check if this labeling makes the CS under-closed\n",
        "    if is_weakly_hamiltonian_labeling(new_labeling):\n",
        "      return new_labeling\n",
        "  return []\n",
        "\n",
        "run(weakly_hamiltonian_SC, properties[9])"
      ],
      "execution_count": null,
      "outputs": [
        {
          "output_type": "stream",
          "text": [
            "is weakly-hamiltonian with the labeling\n",
            "[[1, 2], [1, 3], [2, 3], [2, 4], [3, 4], [3, 5], [4, 5], [4, 6], [5, 6], [1, 5], [1, 6], [2, 6]]\n",
            "\n"
          ],
          "name": "stdout"
        }
      ]
    }
  ]
}